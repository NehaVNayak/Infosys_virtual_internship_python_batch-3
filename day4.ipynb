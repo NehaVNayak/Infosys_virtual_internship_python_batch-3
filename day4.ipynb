{
 "cells": [
  {
   "cell_type": "markdown",
   "id": "8a38e772",
   "metadata": {},
   "source": [
    "## task1 : design a calculator using oops concepts"
   ]
  },
  {
   "cell_type": "code",
   "execution_count": 1,
   "id": "f6463438",
   "metadata": {},
   "outputs": [
    {
     "name": "stdout",
     "output_type": "stream",
     "text": [
      "Addition: 9.0\n",
      "Subtraction: -1.0\n",
      "Multiplication: 20.0\n",
      "Division: 0.8\n",
      "Modulus: 4.0\n",
      "Floor Division: 0.0\n",
      "Power: 1024.0\n"
     ]
    }
   ],
   "source": [
    "class Calculator:\n",
    "    def __init__(self, num1, num2):\n",
    "        self.num1 = num1\n",
    "        self.num2 = num2\n",
    "\n",
    "    def add(self):\n",
    "        return self.num1 + self.num2\n",
    "\n",
    "    def subtract(self):\n",
    "        return self.num1 - self.num2\n",
    "\n",
    "    def multiply(self):\n",
    "        return self.num1 * self.num2\n",
    "\n",
    "    def divide(self):\n",
    "        if self.num2 != 0:\n",
    "            return self.num1 / self.num2\n",
    "        else:\n",
    "            return \"Error! Division by zero.\"\n",
    "\n",
    "    def modulus(self):\n",
    "        return self.num1 % self.num2\n",
    "\n",
    "    def floor_divide(self):\n",
    "        if self.num2 != 0:\n",
    "            return self.num1 // self.num2\n",
    "        else:\n",
    "            return \"Error! Division by zero.\"\n",
    "\n",
    "    def power(self):\n",
    "        return self.num1 ** self.num2\n",
    "\n",
    "\n",
    "# Example usage\n",
    "if __name__ == \"__main__\":\n",
    "    a = float(input(\"Enter first number: \"))\n",
    "    b = float(input(\"Enter second number: \"))\n",
    "    \n",
    "    calc = Calculator(a, b)\n",
    "\n",
    "    print(\"Addition:\", calc.add())\n",
    "    print(\"Subtraction:\", calc.subtract())\n",
    "    print(\"Multiplication:\", calc.multiply())\n",
    "    print(\"Division:\", calc.divide())\n",
    "    print(\"Modulus:\", calc.modulus())\n",
    "    print(\"Floor Division:\", calc.floor_divide())\n",
    "    print(\"Power:\", calc.power())\n"
   ]
  },
  {
   "cell_type": "code",
   "execution_count": null,
   "id": "20a087c3",
   "metadata": {},
   "outputs": [],
   "source": []
  }
 ],
 "metadata": {
  "kernelspec": {
   "display_name": "Python 3",
   "language": "python",
   "name": "python3"
  },
  "language_info": {
   "codemirror_mode": {
    "name": "ipython",
    "version": 3
   },
   "file_extension": ".py",
   "mimetype": "text/x-python",
   "name": "python",
   "nbconvert_exporter": "python",
   "pygments_lexer": "ipython3",
   "version": "3.11.1"
  }
 },
 "nbformat": 4,
 "nbformat_minor": 5
}
