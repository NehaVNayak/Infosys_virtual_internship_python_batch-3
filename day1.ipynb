{
 "cells": [
  {
   "cell_type": "code",
   "execution_count": null,
   "id": "abd969e2",
   "metadata": {},
   "outputs": [],
   "source": [
    "# Numeric Types\n",
    "positive_int = 42\n",
    "negative_int = -15\n",
    "binary_int = 0b1010\n",
    "octal_int = 0o12\n",
    "hexadecimal_int = 0xA\n",
    "\n",
    "# Float\n",
    "float_num = 3.14159\n",
    "\n",
    "# Complex\n",
    "complex_num = 2 + 3j\n",
    "\n",
    "# Boolean\n",
    "bool_true = True\n",
    "bool_false = False\n",
    "\n",
    "# Printing values\n",
    "print(\"Positive Integer:\", positive_int)\n",
    "print(\"Negative Integer:\", negative_int)\n",
    "print(\"Binary Integer (0b1010):\", binary_int)\n",
    "print(\"Octal Integer (0o12):\", octal_int)\n",
    "print(\"Hexadecimal Integer (0xA):\", hexadecimal_int)\n",
    "print(\"Float:\", float_num)\n",
    "print(\"Complex:\", complex_num)\n",
    "print(\"Boolean True:\", bool_true)\n",
    "print(\"Boolean False:\", bool_false)\n"
   ]
  },
  {
   "cell_type": "markdown",
   "id": "44fbaac1",
   "metadata": {},
   "source": [
    "## Numeric, Float, Complex, and Boolean Types"
   ]
  },
  {
   "cell_type": "code",
   "execution_count": null,
   "id": "69088851",
   "metadata": {},
   "outputs": [],
   "source": [
    "print(\"\\n---------------------------\")\n",
    "print(\"Task 2: String Operators\")\n",
    "print(\"---------------------------\")\n",
    "\n",
    "# Strings\n",
    "str1 = \"Hello\"\n",
    "str2 = \"World\"\n",
    "\n",
    "# Concatenation\n",
    "concat = str1 + \" \" + str2\n",
    "print(\"Concatenation:\", concat)\n",
    "\n",
    "# Repetition\n",
    "repeat = str1 * 3\n",
    "print(\"Repetition:\", repeat)\n",
    "\n",
    "# Slicing\n",
    "slice_example = str1[1]\n",
    "print(\"Slice [1]:\", slice_example)\n",
    "\n",
    "range_slice = str1[1:4]\n",
    "print(\"Range Slice [1:4]:\", range_slice)\n",
    "\n",
    "last_char = str1[-1]\n",
    "print(\"Last Character [-1]:\", last_char)\n",
    "\n",
    "# Membership\n",
    "in_check = \"H\" in str1\n",
    "print(\"'H' in str1:\", in_check)\n",
    "\n",
    "not_in_check = \"z\" not in str1\n",
    "print(\"'z' not in str1:\", not_in_check)\n"
   ]
  },
  {
   "cell_type": "code",
   "execution_count": null,
   "id": "40029c37",
   "metadata": {},
   "outputs": [],
   "source": []
  }
 ],
 "metadata": {
  "language_info": {
   "name": "python"
  }
 },
 "nbformat": 4,
 "nbformat_minor": 5
}
