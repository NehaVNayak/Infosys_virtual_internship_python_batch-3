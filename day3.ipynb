{
 "cells": [
  {
   "cell_type": "markdown",
   "id": "741f4f24",
   "metadata": {},
   "source": [
    "## Task 1: Calculator with 7 operators using if-elif-else"
   ]
  },
  {
   "cell_type": "code",
   "execution_count": null,
   "metadata": {},
   "outputs": [],
   "source": [
    "# Task 1: Calculator with 7 operators using if-elif-else\n",
    "\n",
    "num1 = float(input(\"Enter first number: \"))\n",
    "num2 = float(input(\"Enter second number: \"))\n",
    "operator = input(\"Enter operator (+, -, *, /, %, //, **): \")\n",
    "\n",
    "if operator == \"+\":\n",
    "    print(\"Result:\", num1 + num2)\n",
    "elif operator == \"-\":\n",
    "    print(\"Result:\", num1 - num2)\n",
    "elif operator == \"*\":\n",
    "    print(\"Result:\", num1 * num2)\n",
    "elif operator == \"/\":\n",
    "    if num2 != 0:\n",
    "        print(\"Result:\", num1 / num2)\n",
    "    else:\n",
    "        print(\"Error: Division by zero!\")\n",
    "elif operator == \"%\":\n",
    "    print(\"Result:\", num1 % num2)\n",
    "elif operator == \"//\":\n",
    "    print(\"Result:\", num1 // num2)\n",
    "elif operator == \"**\":\n",
    "    print(\"Result:\", num1 ** num2)\n",
    "else:\n",
    "    print(\"Invalid operator!\")\n"
   ]
  },
  {
   "cell_type": "markdown",
   "id": "f3b0fc37",
   "metadata": {},
   "source": [
    "## Task 2: Use of for loops with tuple, dictionary, set"
   ]
  },
  {
   "cell_type": "code",
   "execution_count": null,
   "id": "64d18f63",
   "metadata": {},
   "outputs": [],
   "source": [
    "# Task 2: For loop examples\n",
    "\n",
    "# Tuple\n",
    "numbers = (10, 20, 30, 40)\n",
    "print(\"Tuple iteration:\")\n",
    "for num in numbers:\n",
    "    print(num)\n",
    "\n",
    "# Dictionary\n",
    "person = {\"name\": \"Alice\", \"age\": 25, \"city\": \"Bangalore\"}\n",
    "print(\"\\nDictionary iteration (keys and values):\")\n",
    "for key, value in person.items():\n",
    "    print(key, \":\", value)\n",
    "\n",
    "# Set\n",
    "fruits = {\"apple\", \"banana\", \"mango\"}\n",
    "print(\"\\nSet iteration:\")\n",
    "for fruit in fruits:\n",
    "    print(fruit)\n"
   ]
  },
  {
   "cell_type": "markdown",
   "id": "313b5f00",
   "metadata": {},
   "source": [
    "## Task 3: Calculator using Structural Pattern Matching"
   ]
  },
  {
   "cell_type": "code",
   "execution_count": null,
   "id": "cb8bb321",
   "metadata": {},
   "outputs": [
    {
     "ename": "",
     "evalue": "",
     "output_type": "error",
     "traceback": [
      "\u001b[1;31mFailed to start the Kernel. \n",
      "\u001b[1;31mUnable to start Kernel 'Python 3.11.1' due to a timeout waiting for the ports to get used. \n",
      "\u001b[1;31mView Jupyter <a href='command:jupyter.viewOutput'>log</a> for further details."
     ]
    }
   ],
   "source": [
    "# Task 3: Calculator using Structural Pattern Matching\n",
    "\n",
    "num1 = float(input(\"Enter first number: \"))\n",
    "num2 = float(input(\"Enter second number: \"))\n",
    "operator = input(\"Enter operator (+, -, *, /, %, //, **): \")\n",
    "\n",
    "match operator:\n",
    "    case \"+\":\n",
    "        print(\"Result:\", num1 + num2)\n",
    "    case \"-\":\n",
    "        print(\"Result:\", num1 - num2)\n",
    "    case \"*\":\n",
    "        print(\"Result:\", num1 * num2)\n",
    "    case \"/\":\n",
    "        if num2 != 0:\n",
    "            print(\"Result:\", num1 / num2)\n",
    "        else:\n",
    "            print(\"Error: Division by zero!\")\n",
    "    case \"%\":\n",
    "        print(\"Result:\", num1 % num2)\n",
    "    case \"//\":\n",
    "        print(\"Result:\", num1 // num2)\n",
    "    case \"**\":\n",
    "        print(\"Result:\", num1 ** num2)\n",
    "    case _:\n",
    "        print(\"Invalid operator!\")\n"
   ]
  },
  {
   "cell_type": "markdown",
   "id": "77f177d2",
   "metadata": {},
   "source": [
    "## Task 4: File handling commands"
   ]
  },
  {
   "cell_type": "code",
   "execution_count": null,
   "id": "867da2c1",
   "metadata": {},
   "outputs": [
    {
     "ename": "",
     "evalue": "",
     "output_type": "error",
     "traceback": [
      "\u001b[1;31mFailed to start the Kernel. \n",
      "\u001b[1;31mUnable to start Kernel 'Python 3.11.1' due to a timeout waiting for the ports to get used. \n",
      "\u001b[1;31mView Jupyter <a href='command:jupyter.viewOutput'>log</a> for further details."
     ]
    }
   ],
   "source": [
    "# Task 4: File handling examples\n",
    "\n",
    "# Writing to a file\n",
    "with open(\"example.txt\", \"w\") as f:\n",
    "    f.write(\"Hello, this is a write operation.\\n\")\n",
    "    f.write(\"Second line of text.\\n\")\n",
    "\n",
    "# Reading the file\n",
    "with open(\"example.txt\", \"r\") as f:\n",
    "    print(\"Reading file content:\")\n",
    "    print(f.read())\n",
    "\n",
    "# Appending to the file\n",
    "with open(\"example.txt\", \"a\") as f:\n",
    "    f.write(\"This line is appended.\\n\")\n",
    "\n",
    "# Reading line by line\n",
    "with open(\"example.txt\", \"r\") as f:\n",
    "    print(\"\\nReading file line by line:\")\n",
    "    for line in f:\n",
    "        print(line.strip())\n",
    "\n",
    "# File pointer example\n",
    "with open(\"example.txt\", \"r\") as f:\n",
    "    print(\"\\nUsing readline():\", f.readline().strip())\n",
    "    print(\"Using readlines():\", f.readlines())\n"
   ]
  }
 ],
 "metadata": {
  "kernelspec": {
   "display_name": "Python 3",
   "language": "python",
   "name": "python3"
  },
  "language_info": {
   "name": "python",
   "version": "3.11.1"
  }
 },
 "nbformat": 4,
 "nbformat_minor": 5
}
