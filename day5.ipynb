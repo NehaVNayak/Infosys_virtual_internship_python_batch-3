{
 "cells": [
  {
   "cell_type": "markdown",
   "id": "3c4ce5d5",
   "metadata": {},
   "source": [
    "## Task1: do Fibonacci & factorial of a number using recursive functions"
   ]
  },
  {
   "cell_type": "code",
   "execution_count": 4,
   "id": "7e09a9ac",
   "metadata": {},
   "outputs": [
    {
     "name": "stdout",
     "output_type": "stream",
     "text": [
      "Factorial of 5 is: 120\n",
      "Fibonacci series: 0 1 1 2 3 5 8 13 "
     ]
    }
   ],
   "source": [
    "# Recursive function for factorial\n",
    "def factorial(n):\n",
    "    if n == 0 or n == 1:\n",
    "        return 1\n",
    "    else:\n",
    "        return n * factorial(n - 1)\n",
    "\n",
    "# Recursive function for Fibonacci\n",
    "def fibonacci(n):\n",
    "    if n <= 0:\n",
    "        return \"Invalid input!\"\n",
    "    elif n == 1:\n",
    "        return 0\n",
    "    elif n == 2:\n",
    "        return 1\n",
    "    else:\n",
    "        return fibonacci(n - 1) + fibonacci(n - 2)\n",
    "\n",
    "\n",
    "# Example usage\n",
    "if __name__ == \"__main__\":\n",
    "    num = int(input(\"Enter a number: \"))\n",
    "\n",
    "    print(f\"Factorial of {num} is: {factorial(num)}\")\n",
    "\n",
    "    terms = int(input(\"Enter number of terms for Fibonacci series: \"))\n",
    "    print(\"Fibonacci series:\", end=\" \")\n",
    "    for i in range(1, terms + 1):\n",
    "        print(fibonacci(i), end=\" \")\n"
   ]
  },
  {
   "cell_type": "markdown",
   "id": "724c3c02",
   "metadata": {},
   "source": [
    "## Task2: write example code for module os,math,random"
   ]
  },
  {
   "cell_type": "code",
   "execution_count": 5,
   "id": "8e954260",
   "metadata": {},
   "outputs": [
    {
     "name": "stdout",
     "output_type": "stream",
     "text": [
      "Current Working Directory: d:\\Python_Infosys_Internhsip\n",
      "List of files in this directory: ['day1.ipynb', 'day2.ipynb', 'day3.ipynb', 'day4.ipynb', 'day5.ipynb']\n",
      "Environment Path Variable: c:\\Program Files\\Python311;c:\\Users\\nehan\\AppData\\Roaming\\Python\\Python311\\Scripts;C:\\Program Files\\Common Files\\Oracle\\Java\\javapath;C:\\Program Files\\Python311\\Scripts\\;C:\\Program Files\\Python311\\;C:\\WINDOWS\\system32;C:\\WINDOWS;C:\\WINDOWS\\System32\\Wbem;C:\\WINDOWS\\System32\\WindowsPowerShell\\v1.0\\;C:\\WINDOWS\\System32\\OpenSSH\\;C:\\Program Files\\Java\\jdk-19\\bin;C:\\MinGW\\bin;C:\\Program Files\\HP\\HP One Agent;D:\\Keil5\\Flash Magic;C:\\Program Files\\Git\\cmd;C:\\Program Files\\Git\\mingw64\\bin;C:\\Program Files\\Git\\usr\\bin;C:\\xampp\\php;C:\\Program Files\\nodejs\\;C:\\Program Files\\MySQL\\MySQL Server 8.0\\bin;C:\\Program Files\\Java\\jdk-23\\bin;;C:\\WINDOWS\\system32;C:\\WINDOWS;C:\\WINDOWS\\System32\\Wbem;C:\\WINDOWS\\System32\\WindowsPowerShell\\v1.0\\;C:\\WINDOWS\\System32\\OpenSSH\\;C:\\Program Files\\Pandoc\\;C:\\Program Files\\Java\\jdk-23\\bin;C:\\Users\\nehan\\AppData\\Local\\Programs\\Microsoft VS Code\\Microsoft VS Code\\bin;C:\\Users\\nehan\\AppData\\Local\\Microsoft\\WindowsApps;C:\\Users\\nehan\\AppData\\Roaming\\Python\\Python311\\Scripts;C:\\Users\\nehan\\AppData\\Roaming\\Python\\Python311\\;C:\\Program Files\\Pandoc\\;C:\\Users\\nehan\\AppData\\Local\\Programs\\MiKTeX\\miktex\\bin\\x64\\;C:\\Program Files\\MiKTeX\\miktex\\bin\\x64\\;C:\\Program Files\\Common Files\\Oracle\\Java\\javapath;C:\\Program Files\\Python311\\Scripts\\;C:\\Program Files\\Python311\\;C:\\WINDOWS\\system32;C:\\WINDOWS;C:\\WINDOWS\\System32\\Wbem;C:\\WINDOWS\\System32\\WindowsPowerShell\\v1.0\\;C:\\WINDOWS\\System32\\OpenSSH\\;C:\\Program Files\\Java\\jdk-19\\bin;C:\\MinGW\\bin;C:\\Program Files\\HP\\HP One Agent;D:\\Keil5\\Flash Magic;C:\\Program Files\\Git\\cmd;C:\\Program Files\\Git\\mingw64\\bin;C:\\Program Files\\Git\\usr\\bin;C:\\xampp\\php;C:\\Program Files\\nodejs\\;C:\\Program Files\\MySQL\\MySQL Server 8.0\\bin;C:\\Program Files\\Java\\jdk-23\\bin;;C:\\WINDOWS\\system32;C:\\WINDOWS;C:\\WINDOWS\\System32\\Wbem;C:\\WINDOWS\\System32\\WindowsPowerShell\\v1.0\\;C:\\WINDOWS\\System32\\OpenSSH\\;C:\\Program Files\\Pandoc\\;D:\\Keil5\\Flash Magic;C:\\Program Files\\Common Files\\Oracle\\Java\\javapath;C:\\Program Files\\Python311\\Scripts\\;C:\\Program Files\\Python311\\;C:\\WINDOWS\\system32;C:\\WINDOWS;C:\\WINDOWS\\System32\\Wbem;C:\\WINDOWS\\System32\\WindowsPowerShell\\v1.0\\;C:\\WINDOWS\\System32\\OpenSSH\\;C:\\Program Files\\Java\\jdk-19\\bin;C:\\MinGW\\bin;C:\\Program Files\\HP\\HP One Agent;D:\\Keil5\\Flash Magic;C:\\Program Files\\Git\\cmd;C:\\Program Files\\Git\\mingw64\\bin;C:\\Program Files\\Git\\usr\\bin;C:\\xampp\\php;C:\\Program Files\\nodejs\\;C:\\Program Files\\MySQL\\MySQL Server 8.0\\bin;C:\\Program Files\\Java\\jdk-23\\bin;;C:\\WINDOWS\\system32;C:\\WINDOWS;C:\\WINDOWS\\System32\\Wbem;C:\\WINDOWS\\System32\\WindowsPowerShell\\v1.0\\;C:\\WINDOWS\\System32\\OpenSSH\\;C:\\Program Files\\Pandoc\\;C:\\Program Files\\Java\\jdk-23\\bin;C:\\Users\\nehan\\AppData\\Local\\Programs\\Microsoft VS Code\\Microsoft VS Code\\bin;C:\\Users\\nehan\\AppData\\Local\\Microsoft\\WindowsApps;C:\\Users\\nehan\\AppData\\Roaming\\Python\\Python311\\Scripts;C:\\Users\\nehan\\AppData\\Roaming\\Python\\Python311\\;C:\\Program Files\\Pandoc\\;C:\\Users\\nehan\\AppData\\Local\\Programs\\MiKTeX\\miktex\\bin\\x64\\;C:\\Program Files\\MiKTeX\\miktex\\bin\\x64\\;C:\\Program Files\\Common Files\\Oracle\\Java\\javapath;C:\\Program Files\\Python311\\Scripts\\;C:\\Program Files\\Python311\\;C:\\WINDOWS\\system32;C:\\WINDOWS;C:\\WINDOWS\\System32\\Wbem;C:\\WINDOWS\\System32\\WindowsPowerShell\\v1.0\\;C:\\WINDOWS\\System32\\OpenSSH\\;C:\\Program Files\\Java\\jdk-19\\bin;C:\\MinGW\\bin;C:\\Program Files\\HP\\HP One Agent;D:\\Keil5\\Flash Magic;C:\\Program Files\\Git\\cmd;C:\\Program Files\\Git\\mingw64\\bin;C:\\Program Files\\Git\\usr\\bin;C:\\xampp\\php;C:\\Program Files\\nodejs\\;C:\\Program Files\\MySQL\\MySQL Server 8.0\\bin;C:\\Program Files\\Java\\jdk-23\\bin;;C:\\WINDOWS\\system32;C:\\WINDOWS;C:\\WINDOWS\\System32\\Wbem;C:\\WINDOWS\\System32\\WindowsPowerShell\\v1.0\\;C:\\WINDOWS\\System32\\OpenSSH\\;C:\\Program Files\\Pandoc\\;D:\\Keil5\\Flash Magic\n",
      "\n",
      "Square root of 16 is: 4.0\n",
      "Factorial of 5 is: 120\n",
      "Power (2^3) is: 8.0\n",
      "Pi value: 3.141592653589793\n",
      "Cos(90 degrees): 6.123233995736766e-17\n",
      "\n",
      "Random number between 1 and 10: 8\n",
      "Random float between 0 and 1: 0.35651697479145217\n",
      "Random choice from list: banana\n",
      "Random sample of 3 elements from range(10): [0, 4, 9]\n"
     ]
    }
   ],
   "source": [
    "import os\n",
    "import math\n",
    "import random\n",
    "\n",
    "# ---------------- OS Module Example ----------------\n",
    "print(\"Current Working Directory:\", os.getcwd())  # get current directory\n",
    "print(\"List of files in this directory:\", os.listdir())  # list files\n",
    "print(\"Environment Path Variable:\", os.environ.get(\"PATH\"))  # access environment variable\n",
    "\n",
    "# ---------------- Math Module Example ----------------\n",
    "num = 16\n",
    "print(\"\\nSquare root of\", num, \"is:\", math.sqrt(num))\n",
    "print(\"Factorial of 5 is:\", math.factorial(5))\n",
    "print(\"Power (2^3) is:\", math.pow(2, 3))\n",
    "print(\"Pi value:\", math.pi)\n",
    "print(\"Cos(90 degrees):\", math.cos(math.radians(90)))\n",
    "\n",
    "# ---------------- Random Module Example ----------------\n",
    "print(\"\\nRandom number between 1 and 10:\", random.randint(1, 10))\n",
    "print(\"Random float between 0 and 1:\", random.random())\n",
    "print(\"Random choice from list:\", random.choice([\"apple\", \"banana\", \"cherry\"]))\n",
    "print(\"Random sample of 3 elements from range(10):\", random.sample(range(10), 3))\n"
   ]
  },
  {
   "cell_type": "code",
   "execution_count": null,
   "id": "eff8dc6a",
   "metadata": {},
   "outputs": [],
   "source": []
  }
 ],
 "metadata": {
  "kernelspec": {
   "display_name": "Python 3",
   "language": "python",
   "name": "python3"
  },
  "language_info": {
   "codemirror_mode": {
    "name": "ipython",
    "version": 3
   },
   "file_extension": ".py",
   "mimetype": "text/x-python",
   "name": "python",
   "nbconvert_exporter": "python",
   "pygments_lexer": "ipython3",
   "version": "3.11.1"
  }
 },
 "nbformat": 4,
 "nbformat_minor": 5
}
