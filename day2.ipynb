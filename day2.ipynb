{
 "cells": [
  {
   "cell_type": "markdown",
   "id": "f6e11b7b",
   "metadata": {},
   "source": [
    "## Task 1: Create Google Form (all data types + 5 string formatting methods)"
   ]
  },
  {
   "cell_type": "code",
   "execution_count": 1,
   "id": "4a7f1be7",
   "metadata": {},
   "outputs": [
    {
     "name": "stdout",
     "output_type": "stream",
     "text": [
      "\n",
      "--- Google Form Response ---\n",
      "Name: Neha Age: 21 Percentage: 98.7 Email: nehanayak246@gmail.com Student: True\n",
      "Name: Neha | Age: 21 | Percentage: 98.7 | Email: nehanayak246@gmail.com | Student: True\n",
      "Name: Neha | Age: 21 | Percentage: 98.70 | Email: nehanayak246@gmail.com | Student: True\n",
      "Name: Neha | Age: 21 | Percentage: 98.70 | Email: nehanayak246@gmail.com | Student: True\n",
      "Name: Neha | Age: 21 | Percentage: 98.70 | Email: nehanayak246@gmail.com | Student: True\n"
     ]
    }
   ],
   "source": [
    "name = input(\"Enter your name: \")\n",
    "age = int(input(\"Enter your age: \"))\n",
    "percentage = float(input(\"Enter your percentage: \"))\n",
    "email = input(\"Enter your email: \")\n",
    "is_student = input(\"Are you a student? (True/False): \")\n",
    "\n",
    "print(\"\\n--- Google Form Response ---\")\n",
    "\n",
    "# 1. Using comma\n",
    "print(\"Name:\", name, \"Age:\", age, \"Percentage:\", percentage, \"Email:\", email, \"Student:\", is_student)\n",
    "\n",
    "# 2. Using +\n",
    "print(\"Name: \" + name + \" | Age: \" + str(age) + \" | Percentage: \" + str(percentage) + \" | Email: \" + email + \" | Student: \" + is_student)\n",
    "\n",
    "# 3. Using %\n",
    "print(\"Name: %s | Age: %d | Percentage: %.2f | Email: %s | Student: %s\" % (name, age, percentage, email, is_student))\n",
    "\n",
    "# 4. Using format()\n",
    "print(\"Name: {} | Age: {} | Percentage: {:.2f} | Email: {} | Student: {}\".format(name, age, percentage, email, is_student))\n",
    "\n",
    "# 5. Using f-string\n",
    "print(f\"Name: {name} | Age: {age} | Percentage: {percentage:.2f} | Email: {email} | Student: {is_student}\")\n"
   ]
  },
  {
   "cell_type": "markdown",
   "id": "dcc1e1c2",
   "metadata": {},
   "source": [
    "## Task 2: Functions manipulating lists"
   ]
  },
  {
   "cell_type": "code",
   "execution_count": 2,
   "id": "4b17149b",
   "metadata": {},
   "outputs": [
    {
     "name": "stdout",
     "output_type": "stream",
     "text": [
      "Original list: [10, 20, 30, 40, 50]\n",
      "After append: [10, 20, 30, 40, 50, 60]\n",
      "After remove: [10, 20, 40, 50, 60]\n",
      "After insert: [10, 20, 25, 40, 50, 60]\n",
      "After sort: [10, 20, 25, 40, 50, 60]\n",
      "After reverse: [60, 50, 40, 25, 20, 10]\n"
     ]
    }
   ],
   "source": [
    "def list_operations():\n",
    "    numbers = [10, 20, 30, 40, 50]\n",
    "    print(\"Original list:\", numbers)\n",
    "\n",
    "    numbers.append(60)\n",
    "    print(\"After append:\", numbers)\n",
    "\n",
    "    numbers.remove(30)\n",
    "    print(\"After remove:\", numbers)\n",
    "\n",
    "    numbers.insert(2, 25)\n",
    "    print(\"After insert:\", numbers)\n",
    "\n",
    "    numbers.sort()\n",
    "    print(\"After sort:\", numbers)\n",
    "\n",
    "    numbers.reverse()\n",
    "    print(\"After reverse:\", numbers)\n",
    "\n",
    "list_operations()\n"
   ]
  },
  {
   "cell_type": "markdown",
   "id": "69e23fb7",
   "metadata": {},
   "source": [
    "## Task 3: Built-in functions for dictionary"
   ]
  },
  {
   "cell_type": "code",
   "execution_count": 3,
   "id": "4ad0e80e",
   "metadata": {},
   "outputs": [
    {
     "name": "stdout",
     "output_type": "stream",
     "text": [
      "Keys: dict_keys(['name', 'age', 'marks'])\n",
      "Values: dict_values(['Alice', 21, 88])\n",
      "Items: dict_items([('name', 'Alice'), ('age', 21), ('marks', 88)])\n",
      "Get age: 21\n",
      "Pop marks: 88\n",
      "After pop: {'name': 'Alice', 'age': 21}\n"
     ]
    }
   ],
   "source": [
    "student = {\"name\": \"Alice\", \"age\": 21, \"marks\": 88}\n",
    "\n",
    "print(\"Keys:\", student.keys())\n",
    "print(\"Values:\", student.values())\n",
    "print(\"Items:\", student.items())\n",
    "print(\"Get age:\", student.get(\"age\"))\n",
    "print(\"Pop marks:\", student.pop(\"marks\"))\n",
    "print(\"After pop:\", student)\n"
   ]
  },
  {
   "cell_type": "markdown",
   "id": "e72bf439",
   "metadata": {},
   "source": [
    "## Task 4: Functions to modify set"
   ]
  },
  {
   "cell_type": "code",
   "execution_count": 4,
   "id": "e0df26bb",
   "metadata": {},
   "outputs": [
    {
     "name": "stdout",
     "output_type": "stream",
     "text": [
      "Original set: {1, 2, 3}\n",
      "After add: {1, 2, 3, 4}\n",
      "After update: {1, 2, 3, 4, 5, 6}\n",
      "After remove: {1, 3, 4, 5, 6}\n",
      "After discard: {1, 3, 4, 5, 6}\n"
     ]
    }
   ],
   "source": [
    "def set_modification():\n",
    "    myset = {1, 2, 3}\n",
    "    print(\"Original set:\", myset)\n",
    "\n",
    "    myset.add(4)\n",
    "    print(\"After add:\", myset)\n",
    "\n",
    "    myset.update([5, 6])\n",
    "    print(\"After update:\", myset)\n",
    "\n",
    "    myset.remove(2)\n",
    "    print(\"After remove:\", myset)\n",
    "\n",
    "    myset.discard(10)  \n",
    "    print(\"After discard:\", myset)\n",
    "\n",
    "set_modification()\n"
   ]
  },
  {
   "cell_type": "markdown",
   "id": "d90e4c94",
   "metadata": {},
   "source": [
    "## Task 5: Set operations"
   ]
  },
  {
   "cell_type": "code",
   "execution_count": 5,
   "id": "f0823fa4",
   "metadata": {},
   "outputs": [
    {
     "name": "stdout",
     "output_type": "stream",
     "text": [
      "Set A: {1, 2, 3, 4}\n",
      "Set B: {3, 4, 5, 6}\n",
      "Union: {1, 2, 3, 4, 5, 6}\n",
      "Intersection: {3, 4}\n",
      "Difference (A-B): {1, 2}\n",
      "Symmetric Difference: {1, 2, 5, 6}\n"
     ]
    }
   ],
   "source": [
    "A = {1, 2, 3, 4}\n",
    "B = {3, 4, 5, 6}\n",
    "\n",
    "print(\"Set A:\", A)\n",
    "print(\"Set B:\", B)\n",
    "\n",
    "print(\"Union:\", A | B)\n",
    "print(\"Intersection:\", A & B)\n",
    "print(\"Difference (A-B):\", A - B)\n",
    "print(\"Symmetric Difference:\", A ^ B)\n"
   ]
  },
  {
   "cell_type": "code",
   "execution_count": null,
   "id": "14924ad8",
   "metadata": {},
   "outputs": [],
   "source": []
  }
 ],
 "metadata": {
  "kernelspec": {
   "display_name": "Python 3",
   "language": "python",
   "name": "python3"
  },
  "language_info": {
   "codemirror_mode": {
    "name": "ipython",
    "version": 3
   },
   "file_extension": ".py",
   "mimetype": "text/x-python",
   "name": "python",
   "nbconvert_exporter": "python",
   "pygments_lexer": "ipython3",
   "version": "3.11.1"
  }
 },
 "nbformat": 4,
 "nbformat_minor": 5
}
